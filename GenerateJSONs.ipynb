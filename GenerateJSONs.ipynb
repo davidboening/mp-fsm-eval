{
 "cells": [
  {
   "cell_type": "code",
   "execution_count": 1,
   "metadata": {},
   "outputs": [],
   "source": [
    "import json"
   ]
  },
  {
   "cell_type": "code",
   "execution_count": 2,
   "metadata": {},
   "outputs": [],
   "source": [
    "template = {\n",
    "    \"NAME\": \"Test\",\n",
    "    \"N_STATES\": 8,\n",
    "    \"N_SYMBOLS\": 8,\n",
    "    \"PLAYER_INPUT_SIZES\": [\n",
    "        5,\n",
    "        5,\n",
    "        5\n",
    "    ],\n",
    "    \"REPETITIONS\": 3\n",
    "}"
   ]
  },
  {
   "cell_type": "markdown",
   "metadata": {},
   "source": [
    "## Generates .json files for plotting in AggregateData notebook\n",
    "Works on both linux and windows"
   ]
  },
  {
   "cell_type": "markdown",
   "metadata": {},
   "source": [
    "### Variable Parties"
   ]
  },
  {
   "cell_type": "code",
   "execution_count": 3,
   "metadata": {},
   "outputs": [
    {
     "data": {
      "text/plain": [
       "[2, 3, 4, 5, 6, 7, 8, 9]"
      ]
     },
     "execution_count": 3,
     "metadata": {},
     "output_type": "execute_result"
    }
   ],
   "source": [
    "parties = list(range(2,9+1))\n",
    "parties"
   ]
  },
  {
   "cell_type": "code",
   "execution_count": 4,
   "metadata": {},
   "outputs": [],
   "source": [
    "test = []\n",
    "\n",
    "name_format = \"Variable #Parties: p={}\"\n",
    "states = 8\n",
    "symbols = 8\n",
    "lenght = 32\n",
    "rep = 3\n",
    "\n",
    "OUTFILE = \"./Tests/increasing-party-fixed-others.json\""
   ]
  },
  {
   "cell_type": "code",
   "execution_count": 5,
   "metadata": {},
   "outputs": [],
   "source": [
    "for p in parties:\n",
    "    inputs = [lenght//p for i in range(p)]\n",
    "    for i in range(lenght%p):\n",
    "        inputs[i] += 1\n",
    "    \n",
    "    test.append(\n",
    "    {\n",
    "        \"NAME\": name_format.format(p),\n",
    "        \"N_STATES\": states,\n",
    "        \"N_SYMBOLS\": symbols,\n",
    "        \"PLAYER_INPUT_SIZES\": inputs,\n",
    "        \"REPETITIONS\": rep\n",
    "        }\n",
    "    )"
   ]
  },
  {
   "cell_type": "code",
   "execution_count": 6,
   "metadata": {},
   "outputs": [],
   "source": [
    "with open(OUTFILE, \"w+\", newline=\"\\n\") as fd:\n",
    "    fd.write(json.dumps(test, sort_keys=True, indent=4))"
   ]
  },
  {
   "cell_type": "markdown",
   "metadata": {},
   "source": [
    "### Variable States"
   ]
  },
  {
   "cell_type": "code",
   "execution_count": 7,
   "metadata": {},
   "outputs": [
    {
     "data": {
      "text/plain": [
       "[8, 16, 24, 32, 40, 48, 56, 64]"
      ]
     },
     "execution_count": 7,
     "metadata": {},
     "output_type": "execute_result"
    }
   ],
   "source": [
    "states = list(range(8,64+1,8))\n",
    "states"
   ]
  },
  {
   "cell_type": "code",
   "execution_count": 8,
   "metadata": {},
   "outputs": [],
   "source": [
    "test = []\n",
    "\n",
    "name_format = \"Variable #States: n={}\"\n",
    "parties = 3\n",
    "symbols = 8\n",
    "lenght = 15\n",
    "rep = 3\n",
    "\n",
    "OUTFILE = \"./Tests/increasing-states-fixed-others.json\""
   ]
  },
  {
   "cell_type": "code",
   "execution_count": 9,
   "metadata": {},
   "outputs": [],
   "source": [
    "for s in states:\n",
    "    inputs = [lenght//parties for i in range(parties)]\n",
    "    for i in range(lenght%parties):\n",
    "        inputs[i] += 1\n",
    "    \n",
    "    test.append(\n",
    "    {\n",
    "        \"NAME\": name_format.format(s),\n",
    "        \"N_STATES\": s,\n",
    "        \"N_SYMBOLS\": symbols,\n",
    "        \"PLAYER_INPUT_SIZES\": inputs,\n",
    "        \"REPETITIONS\": rep\n",
    "        }\n",
    "    )"
   ]
  },
  {
   "cell_type": "code",
   "execution_count": 10,
   "metadata": {},
   "outputs": [],
   "source": [
    "with open(OUTFILE, \"w+\", newline=\"\\n\") as fd:\n",
    "    fd.write(json.dumps(test, sort_keys=True, indent=4))"
   ]
  },
  {
   "cell_type": "markdown",
   "metadata": {},
   "source": [
    "### Variable String"
   ]
  },
  {
   "cell_type": "code",
   "execution_count": 11,
   "metadata": {},
   "outputs": [
    {
     "data": {
      "text/plain": [
       "[10, 20, 30, 40, 50, 60, 70, 80]"
      ]
     },
     "execution_count": 11,
     "metadata": {},
     "output_type": "execute_result"
    }
   ],
   "source": [
    "lenght = list(range(10,80+1,10))\n",
    "lenght"
   ]
  },
  {
   "cell_type": "code",
   "execution_count": 12,
   "metadata": {},
   "outputs": [],
   "source": [
    "test = []\n",
    "\n",
    "name_format = \"Variable String Lenght: m={}\"\n",
    "parties = 3\n",
    "states = 8\n",
    "symbols = 8\n",
    "rep = 3\n",
    "\n",
    "OUTFILE = \"./Tests/increasing-string-fixed-others.json\""
   ]
  },
  {
   "cell_type": "code",
   "execution_count": 13,
   "metadata": {},
   "outputs": [],
   "source": [
    "for l in lenght:\n",
    "    inputs = [l//parties for i in range(parties)]\n",
    "    for i in range(l%parties):\n",
    "        inputs[i] += 1\n",
    "    \n",
    "    test.append(\n",
    "    {\n",
    "        \"NAME\": name_format.format(l),\n",
    "        \"N_STATES\": states,\n",
    "        \"N_SYMBOLS\": symbols,\n",
    "        \"PLAYER_INPUT_SIZES\": inputs,\n",
    "        \"REPETITIONS\": rep\n",
    "        }\n",
    "    )"
   ]
  },
  {
   "cell_type": "code",
   "execution_count": 14,
   "metadata": {},
   "outputs": [],
   "source": [
    "with open(OUTFILE, \"w+\", newline=\"\\n\") as fd:\n",
    "    fd.write(json.dumps(test, sort_keys=True, indent=4))"
   ]
  },
  {
   "cell_type": "markdown",
   "metadata": {},
   "source": [
    "### Variable Symbols"
   ]
  },
  {
   "cell_type": "code",
   "execution_count": 15,
   "metadata": {},
   "outputs": [
    {
     "data": {
      "text/plain": [
       "[8, 16, 24, 32, 40, 48, 56, 64]"
      ]
     },
     "execution_count": 15,
     "metadata": {},
     "output_type": "execute_result"
    }
   ],
   "source": [
    "symbols = list(range(8,64+1,8))\n",
    "symbols"
   ]
  },
  {
   "cell_type": "code",
   "execution_count": 16,
   "metadata": {},
   "outputs": [],
   "source": [
    "test = []\n",
    "\n",
    "name_format = \"Variable #Symbols: z={}\"\n",
    "parties = 3\n",
    "states = 8\n",
    "lenght = 15\n",
    "rep = 3\n",
    "\n",
    "OUTFILE = \"./Tests/increasing-symbols-fixed-others.json\""
   ]
  },
  {
   "cell_type": "code",
   "execution_count": 17,
   "metadata": {},
   "outputs": [],
   "source": [
    "for s in symbols:\n",
    "    inputs = [lenght//parties for i in range(parties)]\n",
    "    for i in range(lenght%parties):\n",
    "        inputs[i] += 1\n",
    "    \n",
    "    test.append(\n",
    "    {\n",
    "        \"NAME\": name_format.format(s),\n",
    "        \"N_STATES\": states,\n",
    "        \"N_SYMBOLS\": s,\n",
    "        \"PLAYER_INPUT_SIZES\": inputs,\n",
    "        \"REPETITIONS\": rep\n",
    "        }\n",
    "    )"
   ]
  },
  {
   "cell_type": "code",
   "execution_count": 18,
   "metadata": {},
   "outputs": [],
   "source": [
    "with open(OUTFILE, \"w+\", newline=\"\\n\") as fd:\n",
    "    fd.write(json.dumps(test, sort_keys=True, indent=4))"
   ]
  },
  {
   "cell_type": "code",
   "execution_count": null,
   "metadata": {},
   "outputs": [],
   "source": []
  }
 ],
 "metadata": {
  "kernelspec": {
   "display_name": "Python 3",
   "language": "python",
   "name": "python3"
  },
  "language_info": {
   "codemirror_mode": {
    "name": "ipython",
    "version": 3
   },
   "file_extension": ".py",
   "mimetype": "text/x-python",
   "name": "python",
   "nbconvert_exporter": "python",
   "pygments_lexer": "ipython3",
   "version": "3.8.6"
  }
 },
 "nbformat": 4,
 "nbformat_minor": 4
}
