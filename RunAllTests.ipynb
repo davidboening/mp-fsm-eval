{
 "cells": [
  {
   "cell_type": "code",
   "execution_count": 1,
   "metadata": {},
   "outputs": [],
   "source": [
    "import subprocess\n",
    "from tqdm import tqdm"
   ]
  },
  {
   "cell_type": "code",
   "execution_count": 2,
   "metadata": {},
   "outputs": [],
   "source": [
    "def checked_call(command):\n",
    "    call = subprocess.run(command, stdout=subprocess.PIPE, stderr=subprocess.STDOUT)\n",
    "    if call.returncode != 0:\n",
    "        raise Exception(\"Failed call: \" + str(command) + \"\\n\" + call.stdout.decode())\n",
    "    return call"
   ]
  },
  {
   "cell_type": "markdown",
   "metadata": {},
   "source": [
    "## Runs all tests in Tests folder and saves results\n",
    "Only works on windows, powershell 7.0 or later, python 3 with standard scientific packages (esp. pandas and tqdm) are required.\n",
    "\n",
    "Docker and the mp-fsm-eval image must be installed. Docker must also be running.\n",
    "\n",
    "pwsh (powershell7 executable) and python (python3 executable) and docker must be accessable from PATH."
   ]
  },
  {
   "cell_type": "markdown",
   "metadata": {},
   "source": [
    "### Get all .json files"
   ]
  },
  {
   "cell_type": "code",
   "execution_count": 3,
   "metadata": {},
   "outputs": [],
   "source": [
    "# get all jsons\n",
    "command = [\n",
    "    \"pwsh\",\n",
    "    \"-Command\",\n",
    "    \"Get-ChildItem\", \n",
    "    \".\\\\Tests\",\n",
    "    \"-Filter *.json\",\n",
    "    \"-Recurse | % { $_.FullName }\"\n",
    "]\n",
    "call = checked_call(command)"
   ]
  },
  {
   "cell_type": "code",
   "execution_count": 4,
   "metadata": {},
   "outputs": [
    {
     "data": {
      "text/plain": [
       "['E:\\\\GitRepMain\\\\tesi-mpc-2020\\\\Tests\\\\example-computation.json',\n",
       " 'E:\\\\GitRepMain\\\\tesi-mpc-2020\\\\Tests\\\\increasing-party-fixed-others.json',\n",
       " 'E:\\\\GitRepMain\\\\tesi-mpc-2020\\\\Tests\\\\increasing-states-fixed-others.json',\n",
       " 'E:\\\\GitRepMain\\\\tesi-mpc-2020\\\\Tests\\\\increasing-string-fixed-others.json',\n",
       " 'E:\\\\GitRepMain\\\\tesi-mpc-2020\\\\Tests\\\\increasing-symbols-fixed-others.json',\n",
       " 'E:\\\\GitRepMain\\\\tesi-mpc-2020\\\\Tests\\\\spdz-semi-comparison.json']"
      ]
     },
     "execution_count": 4,
     "metadata": {},
     "output_type": "execute_result"
    }
   ],
   "source": [
    "jsons = call.stdout.decode().split()\n",
    "jsons"
   ]
  },
  {
   "cell_type": "markdown",
   "metadata": {},
   "source": [
    "### Generate .ps1 scripts"
   ]
  },
  {
   "cell_type": "code",
   "execution_count": 5,
   "metadata": {},
   "outputs": [
    {
     "name": "stderr",
     "output_type": "stream",
     "text": [
      "100%|████████████████████████████████████████████████████████████████████████████████████| 6/6 [00:11<00:00,  1.96s/it]\n"
     ]
    },
    {
     "data": {
      "text/plain": [
       "['E:\\\\GitRepMain\\\\tesi-mpc-2020\\\\Scripts\\\\example-computation.ps1',\n",
       " 'E:\\\\GitRepMain\\\\tesi-mpc-2020\\\\Scripts\\\\increasing-party-fixed-others.ps1',\n",
       " 'E:\\\\GitRepMain\\\\tesi-mpc-2020\\\\Scripts\\\\increasing-states-fixed-others.ps1',\n",
       " 'E:\\\\GitRepMain\\\\tesi-mpc-2020\\\\Scripts\\\\increasing-string-fixed-others.ps1',\n",
       " 'E:\\\\GitRepMain\\\\tesi-mpc-2020\\\\Scripts\\\\increasing-symbols-fixed-others.ps1',\n",
       " 'E:\\\\GitRepMain\\\\tesi-mpc-2020\\\\Scripts\\\\spdz-semi-comparison.ps1']"
      ]
     },
     "execution_count": 5,
     "metadata": {},
     "output_type": "execute_result"
    }
   ],
   "source": [
    "# generate all scripts\n",
    "scripts = []\n",
    "for json in tqdm(jsons):\n",
    "    # generate script destination\n",
    "    script_dest = json.split(\"\\\\\")\n",
    "    script_dest[-2] = \"Scripts\"\n",
    "    script_dest[-1] = script_dest[-1][:-4] + \"ps1\"\n",
    "    script_dest = \"\\\\\".join(script_dest)\n",
    "    \n",
    "    # generate script\n",
    "    command = [\n",
    "        \"pwsh\",\n",
    "        \"-Command\",\n",
    "        \"python\",\n",
    "        \".\\\\generate_test_script.py\",\n",
    "        json, \n",
    "        script_dest\n",
    "    ]\n",
    "    call = checked_call(command)\n",
    "    scripts.append(script_dest)\n",
    "scripts"
   ]
  },
  {
   "cell_type": "markdown",
   "metadata": {},
   "source": [
    "### Run all .ps1 scripts (Docker must be open)"
   ]
  },
  {
   "cell_type": "code",
   "execution_count": 6,
   "metadata": {},
   "outputs": [
    {
     "name": "stderr",
     "output_type": "stream",
     "text": [
      "100%|███████████████████████████████████████████████████████████████████████████████████| 6/6 [14:27<00:00, 144.50s/it]\n"
     ]
    }
   ],
   "source": [
    "raw_results = []\n",
    "for script in tqdm(scripts):\n",
    "    # generate script\n",
    "    command = [\n",
    "        \"pwsh\",\n",
    "        \"-Command\",\n",
    "        script\n",
    "    ]\n",
    "    call = checked_call(command)\n",
    "    raw_results.append(call.stdout.decode())"
   ]
  },
  {
   "cell_type": "markdown",
   "metadata": {},
   "source": [
    "### Save Results"
   ]
  },
  {
   "cell_type": "code",
   "execution_count": 7,
   "metadata": {},
   "outputs": [
    {
     "name": "stderr",
     "output_type": "stream",
     "text": [
      "100%|████████████████████████████████████████████████████████████████████████████████████| 6/6 [00:17<00:00,  2.93s/it]\n"
     ]
    }
   ],
   "source": [
    "raw_files = []\n",
    "csv_files = []\n",
    "for script, raw_result in tqdm(zip(scripts, raw_results), total=len(scripts)):\n",
    "    # generate raw file name\n",
    "    raw_dest = script.split(\"\\\\\")\n",
    "    raw_dest[-2] = \"Results\\\\Raw\"\n",
    "    raw_dest[-1] = raw_dest[-1][:-3] + \"txt\"\n",
    "    raw_dest = \"\\\\\".join(raw_dest)\n",
    "    \n",
    "    # generate raw file\n",
    "    with open(raw_dest, \"w+\", newline=\"\\n\") as fd:\n",
    "        fd.write(raw_result)\n",
    "        \n",
    "    raw_files.append(raw_dest)\n",
    "        \n",
    "    csv_dest = raw_dest.split(\"\\\\\")\n",
    "    csv_dest[-2] = \"Parsed\"\n",
    "    csv_dest[-1] = csv_dest[-1][:-3] + \"csv\"\n",
    "    csv_dest = \"\\\\\".join(csv_dest)\n",
    "    \n",
    "    # parse files (if available)\n",
    "    command = [\n",
    "        \"pwsh\",\n",
    "        \"-Command\",\n",
    "        \"python\",\n",
    "        \".\\\\parse_test_results.py\",\n",
    "        raw_dest,\n",
    "        csv_dest\n",
    "    ]\n",
    "    call = subprocess.run(command, stdout=subprocess.PIPE, stderr=subprocess.STDOUT)\n",
    "    if call.returncode != 0:\n",
    "        continue\n",
    "    csv_files.append(csv_dest)"
   ]
  },
  {
   "cell_type": "code",
   "execution_count": 8,
   "metadata": {},
   "outputs": [
    {
     "data": {
      "text/plain": [
       "['E:\\\\GitRepMain\\\\tesi-mpc-2020\\\\Results\\\\Raw\\\\example-computation.txt',\n",
       " 'E:\\\\GitRepMain\\\\tesi-mpc-2020\\\\Results\\\\Raw\\\\increasing-party-fixed-others.txt',\n",
       " 'E:\\\\GitRepMain\\\\tesi-mpc-2020\\\\Results\\\\Raw\\\\increasing-states-fixed-others.txt',\n",
       " 'E:\\\\GitRepMain\\\\tesi-mpc-2020\\\\Results\\\\Raw\\\\increasing-string-fixed-others.txt',\n",
       " 'E:\\\\GitRepMain\\\\tesi-mpc-2020\\\\Results\\\\Raw\\\\increasing-symbols-fixed-others.txt',\n",
       " 'E:\\\\GitRepMain\\\\tesi-mpc-2020\\\\Results\\\\Raw\\\\spdz-semi-comparison.txt']"
      ]
     },
     "execution_count": 8,
     "metadata": {},
     "output_type": "execute_result"
    }
   ],
   "source": [
    "raw_files"
   ]
  },
  {
   "cell_type": "code",
   "execution_count": 9,
   "metadata": {},
   "outputs": [
    {
     "data": {
      "text/plain": [
       "['E:\\\\GitRepMain\\\\tesi-mpc-2020\\\\Results\\\\Parsed\\\\increasing-party-fixed-others.csv',\n",
       " 'E:\\\\GitRepMain\\\\tesi-mpc-2020\\\\Results\\\\Parsed\\\\increasing-states-fixed-others.csv',\n",
       " 'E:\\\\GitRepMain\\\\tesi-mpc-2020\\\\Results\\\\Parsed\\\\increasing-string-fixed-others.csv',\n",
       " 'E:\\\\GitRepMain\\\\tesi-mpc-2020\\\\Results\\\\Parsed\\\\increasing-symbols-fixed-others.csv',\n",
       " 'E:\\\\GitRepMain\\\\tesi-mpc-2020\\\\Results\\\\Parsed\\\\spdz-semi-comparison.csv']"
      ]
     },
     "execution_count": 9,
     "metadata": {},
     "output_type": "execute_result"
    }
   ],
   "source": [
    "csv_files"
   ]
  },
  {
   "cell_type": "markdown",
   "metadata": {},
   "source": [
    "## Extra"
   ]
  },
  {
   "cell_type": "markdown",
   "metadata": {},
   "source": [
    "### Script Usage"
   ]
  },
  {
   "cell_type": "code",
   "execution_count": 10,
   "metadata": {},
   "outputs": [
    {
     "name": "stdout",
     "output_type": "stream",
     "text": [
      "usage: generate_test_script.py [-h] [-I IMAGE] [-N NETWORK]\n",
      "                               [-C CONTAINER_PREFIX] [-S SHELL]\n",
      "                               json name\n",
      "\n",
      "Generate a Test Suite for MP-FSM evaluation given json file\n",
      "\n",
      "positional arguments:\n",
      "  json                  Path to json file describing the test\n",
      "  name                  Name of generated Script\n",
      "\n",
      "optional arguments:\n",
      "  -h, --help            show this help message and exit\n",
      "  -I IMAGE, --image IMAGE\n",
      "                        Name of the image (default: mp-fsm-eval)\n",
      "  -N NETWORK, --network NETWORK\n",
      "                        Name of the network (default: mp-fsm-eval-internal-\n",
      "                        lan)\n",
      "  -C CONTAINER_PREFIX, --container-prefix CONTAINER_PREFIX\n",
      "                        Prefix for Container names (default: mp-fsm-eval)\n",
      "  -S SHELL, --shell SHELL\n",
      "                        Specifies shell (default: powershell7). Currently\n",
      "                        supported shells are: bash (.sh script), powershell7\n",
      "                        (.ps1 script)\n",
      "\n"
     ]
    }
   ],
   "source": [
    "command = [\n",
    "    \"pwsh\",\n",
    "    \"-Command\",\n",
    "    \"python\",\n",
    "    \".\\\\generate_test_script.py\",\n",
    "    \"--help\"\n",
    "]\n",
    "call = checked_call(command)\n",
    "print(call.stdout.decode())"
   ]
  },
  {
   "cell_type": "code",
   "execution_count": 11,
   "metadata": {},
   "outputs": [
    {
     "name": "stdout",
     "output_type": "stream",
     "text": [
      "usage: parse_test_results.py [-h] file csv\n",
      "\n",
      "Parses results generated by any 'generate_test_script.py' script. Note that\n",
      "'DEBUG MODE' is not supported\n",
      "\n",
      "positional arguments:\n",
      "  file        Path to file to be parsed\n",
      "  csv         Name of generated .csv\n",
      "\n",
      "optional arguments:\n",
      "  -h, --help  show this help message and exit\n",
      "\n"
     ]
    }
   ],
   "source": [
    "command = [\n",
    "    \"pwsh\",\n",
    "    \"-Command\",\n",
    "    \"python\",\n",
    "    \".\\\\parse_test_results.py\",\n",
    "    \"--help\"\n",
    "]\n",
    "call = checked_call(command)\n",
    "print(call.stdout.decode())"
   ]
  },
  {
   "cell_type": "code",
   "execution_count": null,
   "metadata": {},
   "outputs": [],
   "source": []
  }
 ],
 "metadata": {
  "kernelspec": {
   "display_name": "Python 3",
   "language": "python",
   "name": "python3"
  },
  "language_info": {
   "codemirror_mode": {
    "name": "ipython",
    "version": 3
   },
   "file_extension": ".py",
   "mimetype": "text/x-python",
   "name": "python",
   "nbconvert_exporter": "python",
   "pygments_lexer": "ipython3",
   "version": "3.8.6"
  }
 },
 "nbformat": 4,
 "nbformat_minor": 4
}
